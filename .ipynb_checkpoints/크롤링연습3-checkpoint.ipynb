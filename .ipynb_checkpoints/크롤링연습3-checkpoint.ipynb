{
 "cells": [
  {
   "cell_type": "code",
   "execution_count": 1,
   "metadata": {},
   "outputs": [],
   "source": [
    "from selenium import webdriver\n",
    "from selenium.webdriver.common.by import By\n",
    "from selenium.webdriver.support.ui import WebDriverWait\n",
    "from selenium.webdriver.support import expected_conditions as EC\n",
    "from bs4 import BeautifulSoup\n",
    "import pandas as pd\n",
    "from pandas import DataFrame\n",
    "import time"
   ]
  },
  {
   "cell_type": "code",
   "execution_count": 3,
   "metadata": {},
   "outputs": [
    {
     "data": {
      "text/plain": [
       "'STAY'"
      ]
     },
     "execution_count": 3,
     "metadata": {},
     "output_type": "execute_result"
    }
   ],
   "source": [
    " # chrome driver 설정\n",
    "driver = webdriver.Chrome('C:/selenium/chromedriver.exe')\n",
    "driver.implicitly_wait(10)\n",
    "\n",
    "url = \"https://www.melon.com/chart/index.htm\"\n",
    "\n",
    "driver.get(url)\n",
    "html = driver.page_source\n",
    "soup = BeautifulSoup(html, 'html.parser')\n",
    "\n",
    "# title crawling\n",
    "title = WebDriverWait(driver, 20) \\\n",
    "    .until(EC.presence_of_element_located((By.CSS_SELECTOR, \"#lst50 > td:nth-child(6) > div > div > div.ellipsis.rank01\")))\n",
    "\n",
    "# print(\"Title: {}\".format(title.text))\n",
    "\n",
    "title.text"
   ]
  },
  {
   "cell_type": "code",
   "execution_count": 7,
   "metadata": {},
   "outputs": [
    {
     "data": {
      "text/plain": [
       "'My Universe'"
      ]
     },
     "execution_count": 7,
     "metadata": {},
     "output_type": "execute_result"
    }
   ],
   "source": [
    "# 2번째 제목 크롤링\n",
    "WebDriverWait(driver, 20) \\\n",
    "    .until(EC.presence_of_element_located((By.XPATH, \"/html/body/div/div[3]/div/div/div[3]/form/div/table/tbody/tr[2]/td[6]/div/div/div[1]/span/a\"))).text"
   ]
  },
  {
   "cell_type": "code",
   "execution_count": 9,
   "metadata": {},
   "outputs": [
    {
     "name": "stdout",
     "output_type": "stream",
     "text": [
      "['STAY', 'My Universe', '신호등', 'Permission to Dance', 'OHAYO MY NIGHT', 'Next Level', 'Butter', '바라만 본다', '낙하 (with 아이유)', 'Weekend', 'Dynamite', 'Queendom', '이제 나만 믿어요', '좋아좋아', '시간을 거슬러 (낮에 뜨는 달 X 케이윌)', 'DUMB DUMB', 'Peaches (Feat. Daniel Caesar & Giveon)', '다정히 내 이름을 부르면', 'Bad Habits', 'Sticker', '가을 타나 봐', '헤픈 우연', '별빛 같은 나의 사랑아', '그대라는 사치', 'HERO', '비와 당신', '다시 사랑한다면 (김필 Ver.)', 'Lemonade', 'Savage Love (Laxed - Siren Beat) (BTS Remix)', '고백', '작은 것들을 위한 시 (Boy With Luv) (Feat. Halsey)', '끝사랑', 'Dun Dun Dance', 'Bk Love', \"롤린 (Rollin')\", '잊었니', '라일락', 'ASAP', '색안경 (STEREOTYPE)', '봄날', 'Celebrity', '사이렌 Remix (Feat. UNEDUCATED KID, Paul Blanco)', '찰나가 영원이 될 때 (The Eternal Moment)', 'Life Goes On', '비가 오는 날엔 (2021)', 'Road Trip', '가을 우체국 앞에서', '미워요', '사랑의 아픔 딛고', '계단말고 엘리베이터']\n"
     ]
    }
   ],
   "source": [
    " # chrome driver 설정\n",
    "driver = webdriver.Chrome('C:/selenium/chromedriver.exe')\n",
    "driver.implicitly_wait(10)\n",
    "\n",
    "url = \"https://www.melon.com/chart/index.htm\"\n",
    "\n",
    "driver.get(url)\n",
    "html = driver.page_source\n",
    "soup = BeautifulSoup(html, 'html.parser')\n",
    "\n",
    "# 빈 리스트 변수\n",
    "title_list = []\n",
    "\n",
    "# title crawling (TOP 50)\n",
    "for i in range(1, 51):\n",
    "    title = WebDriverWait(driver, 20) \\\n",
    "        .until(EC.presence_of_element_located((By.XPATH, \"/html/body/div/div[3]/div/div/div[3]/form/div/table/tbody/tr[\"+str(i)+\"]/td[6]/div/div/div[1]/span/a\")))\n",
    "    title_list.append(title.text)\n",
    "    \n",
    "print(title_list)"
   ]
  },
  {
   "cell_type": "code",
   "execution_count": 15,
   "metadata": {},
   "outputs": [],
   "source": [
    "# chrome driver 설정\n",
    "driver = webdriver.Chrome('C:/selenium/chromedriver.exe')\n",
    "driver.implicitly_wait(10)\n",
    "\n",
    "url = \"https://www.melon.com/chart/index.htm\"\n",
    "\n",
    "driver.get(url)\n",
    "html = driver.page_source\n",
    "soup = BeautifulSoup(html, 'html.parser')\n",
    "\n",
    "# 1번째 click하기\n",
    "click_element = WebDriverWait(driver, 20) \\\n",
    "    .until(EC.presence_of_element_located((By.XPATH, \"/html/body/div/div[2]/div/div[2]/ul[1]/li[1]/div/ul/li[2]/a/span\")))\n",
    "click_element.click()    \n",
    "\n",
    "# back\n",
    "driver.back()\n",
    "\n",
    "# 2번째 click하기\n",
    "click_element = WebDriverWait(driver, 20) \\\n",
    "    .until(EC.presence_of_element_located((By.XPATH, \"/html/body/div/div[2]/div/div[2]/ul[1]/li[1]/div/ul/li[3]/a/span\")))\n",
    "click_element.click()    \n",
    "\n",
    "# back\n",
    "driver.back()"
   ]
  },
  {
   "cell_type": "code",
   "execution_count": 18,
   "metadata": {},
   "outputs": [
    {
     "name": "stdout",
     "output_type": "stream",
     "text": [
      "['Stay', 'My Universe', '신호등', 'Butter / Permission to Dance', 'OHAYO MY NIGHT']\n",
      "['The Kid LAROI, Justin Bieber', 'Coldplay, 방탄소년단', '이무진', '방탄소년단', '디핵 (D-Hack), PATEKO (파테코)']\n",
      "['4.3', '4.6', '4.2', '4.5', '2.8']\n"
     ]
    }
   ],
   "source": [
    " # chrome driver 설정\n",
    "driver = webdriver.Chrome('C:/selenium/chromedriver.exe')\n",
    "driver.implicitly_wait(10)\n",
    "\n",
    "url = \"https://www.melon.com/chart/index.htm\"\n",
    "driver.get(url)\n",
    "html = driver.page_source\n",
    "soup = BeautifulSoup(html, 'html.parser')\n",
    "\n",
    "# 빈 리스트 변수\n",
    "title_list = []\n",
    "artist_list = []\n",
    "heart_list = []\n",
    "\n",
    "# crawling (TOP 5)\n",
    "for i in range(1, 6):\n",
    "    # click\n",
    "    click_element = WebDriverWait(driver, 20) \\\n",
    "        .until(EC.presence_of_element_located((By.XPATH, \"/html/body/div/div[3]/div/div/div[3]/form/div/table/tbody/tr[\"+str(i)+\"]/td[7]/div/div/div/a\")))\n",
    "    click_element.click()\n",
    "\n",
    "    # title crawling\n",
    "    title = WebDriverWait(driver, 20).until(\n",
    "        EC.presence_of_element_located((By.CSS_SELECTOR, \"#conts > div.section_info > div > div.entry > div.info > div.song_name\")))\n",
    "    title_list.append(title.text)\n",
    "\n",
    "    # artist crawling\n",
    "    artist = WebDriverWait(driver, 20).until(\n",
    "        EC.presence_of_element_located((By.CSS_SELECTOR, \"#conts > div.section_info > div > div.entry > div.info > div.artist\")))\n",
    "    artist_list.append(artist.text)\n",
    "    \n",
    "    # heart crawling\n",
    "    heart = WebDriverWait(driver, 20).until(\n",
    "        EC.presence_of_element_located((By.CSS_SELECTOR, \"#gradPointLayer\")))\n",
    "    heart_list.append(heart.text)\n",
    "    \n",
    "    # back\n",
    "    driver.back()\n",
    "    \n",
    "print(title_list)\n",
    "print(artist_list)\n",
    "print(heart_list)\n"
   ]
  },
  {
   "cell_type": "code",
   "execution_count": null,
   "metadata": {},
   "outputs": [],
   "source": []
  }
 ],
 "metadata": {
  "kernelspec": {
   "display_name": "Python 3",
   "language": "python",
   "name": "python3"
  },
  "language_info": {
   "codemirror_mode": {
    "name": "ipython",
    "version": 3
   },
   "file_extension": ".py",
   "mimetype": "text/x-python",
   "name": "python",
   "nbconvert_exporter": "python",
   "pygments_lexer": "ipython3",
   "version": "3.8.5"
  }
 },
 "nbformat": 4,
 "nbformat_minor": 4
}
